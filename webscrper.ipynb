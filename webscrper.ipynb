{
 "cells": [
  {
   "cell_type": "code",
   "execution_count": 70,
   "id": "2427f9f4",
   "metadata": {},
   "outputs": [],
   "source": [
    "from langchain_text_splitters import HTMLHeaderTextSplitter\n",
    "from langchain_openai import OpenAIEmbeddings\n",
    "from langchain_chroma import Chroma\n",
    "from langchain_core.documents import Document\n",
    "from langchain_text_splitters import RecursiveCharacterTextSplitter\n",
    "from langchain_openai import ChatOpenAI\n",
    "from langchain.prompts import ChatPromptTemplate\n",
    "from langchain_core.output_parsers import StrOutputParser\n",
    "from langchain_core.runnables import RunnablePassthrough\n"
   ]
  },
  {
   "cell_type": "code",
   "execution_count": null,
   "id": "e78344a7",
   "metadata": {},
   "outputs": [
    {
     "data": {
      "text/plain": [
       "[Document(metadata={}, page_content='Skip to main content  \\nThis is documentation for LangChain v0.1, which is no longer actively maintained. Check out the docs for the latest version here.  \\nComponentsIntegrationsGuidesAPI Reference  \\nMore  \\nPeopleVersioningContributingTemplatesCookbooksTutorialsYouTube  \\n💬  \\nv0.1  \\nLatestv0.2v0.1  \\n🦜️🔗  \\nLangSmithLangSmith DocsLangServe GitHubTemplates GitHubTemplates HubLangChain HubJS/TS Docs  \\nSearch  \\nSecurity  \\nGet started  \\nIntroductionQuickstartInstallation  \\nUse cases  \\nQ&A with RAG'),\n",
       " Document(metadata={}, page_content='Use cases  \\nQ&A with RAG  \\nExtracting structured output  \\nChatbots  \\nTool use and agents  \\nQuery analysis  \\nQ&A over SQL + CSV  \\nMore  \\nExpression Language  \\nGet startedRunnable interfaceAdvantages of LCELStreamingAdd message history (memory)  \\nPrimitives  \\nMore  \\nEcosystem  \\n🦜🕸️ LangGraph🦜️🏓 LangServe  \\n🦜🛠️ LangSmith  \\nThis is documentation for LangChain v0.1, which is no longer actively maintained.  \\nFor the current stable version, see this version (Latest).  \\nGet started  \\nOn this page'),\n",
       " Document(metadata={}, page_content='Get started  \\nOn this page  \\nIntroductionGet started\\u200bUse cases\\u200bExpression Language\\u200bEcosystem\\u200b🦜🛠️ LangSmith\\u200b🦜🕸️ LangGraph\\u200b🦜🏓 LangServe\\u200bSecurity\\u200bAdditional resources\\u200bComponents\\u200bIntegrations\\u200bGuides\\u200bAPI reference\\u200bContributing\\u200b'),\n",
       " Document(metadata={'Header 1': 'Introduction'}, page_content='LangChain is a framework for developing applications powered by large language models (LLMs).  \\nLangChain simplifies every stage of the LLM application lifecycle:'),\n",
       " Document(metadata={'Header 1': 'Introduction'}, page_content=\"Development: Build your applications using LangChain's open-source building blocks and components. Hit the ground running using third-party integrations and Templates.Productionization: Use LangSmith to inspect, monitor and evaluate your chains, so that you can continuously optimize and deploy with confidence.Deployment: Turn any chain into an API with LangServe.  \\nConcretely, the framework consists of the following open-source libraries:\"),\n",
       " Document(metadata={'Header 1': 'Introduction'}, page_content=\"langchain-core: Base abstractions and LangChain Expression Language.langchain-community: Third party integrations.langchain: Chains, agents, and retrieval strategies that make up an application's cognitive architecture.langgraph: Build robust and stateful multi-actor applications with LLMs by modeling steps as edges and nodes in a graph.langserve: Deploy LangChain chains as REST APIs.\"),\n",
       " Document(metadata={'Header 1': 'Introduction'}, page_content='Partner packages (e.g. langchain-openai, langchain-anthropic, etc.): Some integrations have been further split into their own lightweight packages that only depend on langchain-core.  \\nThe broader ecosystem includes:  \\nLangSmith: A developer platform that lets you debug, test, evaluate, and monitor LLM applications and seamlessly integrates with LangChain.'),\n",
       " Document(metadata={'Header 1': 'Introduction', 'Header 2': 'Get started\\u200b'}, page_content='We recommend following our Quickstart guide to familiarize yourself with the framework by building your first LangChain application.  \\nSee here for instructions on how to install LangChain, set up your environment, and start building.  \\nnote  \\nThese docs focus on the Python LangChain library. Head here for docs on the JavaScript LangChain library.'),\n",
       " Document(metadata={'Header 1': 'Introduction', 'Header 2': 'Use cases\\u200b'}, page_content=\"If you're looking to build something specific or are more of a hands-on learner, check out our use-cases. They're walkthroughs and techniques for common end-to-end tasks, such as:  \\nQuestion answering with RAGExtracting structured outputChatbotsand more!\"),\n",
       " Document(metadata={'Header 1': 'Introduction', 'Header 2': 'Expression Language\\u200b'}, page_content=\"LangChain Expression Language (LCEL) is the foundation of many of LangChain's components, and is a declarative way to compose chains. LCEL was designed from day 1 to support putting prototypes in production, with no code changes, from the simplest “prompt + LLM” chain to the most complex chains.  \\nGet started: LCEL and its benefitsRunnable interface: The standard interface for LCEL objectsPrimitives: More on the primitives LCEL includesand more!\"),\n",
       " Document(metadata={'Header 1': 'Introduction', 'Header 2': 'Ecosystem\\u200b', 'Header 3': '🦜🛠️ LangSmith\\u200b'}, page_content='Trace and evaluate your language model applications and intelligent agents to help you move from prototype to production.'),\n",
       " Document(metadata={'Header 1': 'Introduction', 'Header 2': 'Ecosystem\\u200b', 'Header 3': '🦜🕸️ LangGraph\\u200b'}, page_content='Build stateful, multi-actor applications with LLMs, built on top of (and intended to be used with) LangChain primitives.'),\n",
       " Document(metadata={'Header 1': 'Introduction', 'Header 2': 'Ecosystem\\u200b', 'Header 3': '🦜🏓 LangServe\\u200b'}, page_content='Deploy LangChain runnables and chains as REST APIs.'),\n",
       " Document(metadata={'Header 1': 'Introduction', 'Header 2': 'Security\\u200b'}, page_content=\"Read up on our Security best practices to make sure you're developing safely with LangChain.\"),\n",
       " Document(metadata={'Header 1': 'Introduction', 'Header 2': 'Additional resources\\u200b', 'Header 3': 'Components\\u200b'}, page_content='LangChain provides standard, extendable interfaces and integrations for many different components, including:'),\n",
       " Document(metadata={'Header 1': 'Introduction', 'Header 2': 'Additional resources\\u200b', 'Header 3': 'Integrations\\u200b'}, page_content='LangChain is part of a rich ecosystem of tools that integrate with our framework and build on top of it. Check out our growing list of integrations.'),\n",
       " Document(metadata={'Header 1': 'Introduction', 'Header 2': 'Additional resources\\u200b', 'Header 3': 'Guides\\u200b'}, page_content='Best practices for developing with LangChain.'),\n",
       " Document(metadata={'Header 1': 'Introduction', 'Header 2': 'Additional resources\\u200b', 'Header 3': 'API reference\\u200b'}, page_content='Head to the reference section for full documentation of all classes and methods in the LangChain and LangChain Experimental Python packages.'),\n",
       " Document(metadata={'Header 1': 'Introduction', 'Header 2': 'Additional resources\\u200b', 'Header 3': 'Contributing\\u200b'}, page_content=\"Check out the developer's guide for guidelines on contributing and help getting your dev environment set up.\"),\n",
       " Document(metadata={}, page_content='Help us out by providing feedback on this documentation page:  \\nNext  \\nIntroduction  \\nGet startedUse casesExpression LanguageEcosystemSecurityAdditional resources  \\n🦜🛠️ LangSmith🦜🕸️ LangGraph🦜🏓 LangServe  \\nComponentsIntegrationsGuidesAPI referenceContributing  \\nCommunity  \\nDiscordTwitter  \\nGitHub  \\nPythonJS/TS  \\nMore  \\nHomepageBlogYouTube  \\nCopyright © 2024 LangChain, Inc.')]"
      ]
     },
     "execution_count": 74,
     "metadata": {},
     "output_type": "execute_result"
    }
   ],
   "source": [
    "url = \"https://python.langchain.com/v0.1/docs/get_started/introduction\"\n",
    "\n",
    "headers_to_split_on = [\n",
    "    (\"h1\", \"Header 1\"),\n",
    "    (\"h2\", \"Header 2\"),\n",
    "    (\"h3\", \"Header 3\"),\n",
    "    (\"h4\", \"Header 4\"),\n",
    "]\n",
    "\n",
    "html_splitter = HTMLHeaderTextSplitter(headers_to_split_on=headers_to_split_on)\n",
    "\n",
    "# for local file use html_splitter.split_text_from_file(<path_to_file>)\n",
    "html_header_splits = html_splitter.split_text_from_url(url)\n",
    "\n",
    "chunk_size = 500\n",
    "chunk_overlap = 30\n",
    "text_splitter = RecursiveCharacterTextSplitter(\n",
    "    chunk_size=chunk_size, chunk_overlap=chunk_overlap\n",
    ")\n",
    "\n",
    "# Split\n",
    "splits = text_splitter.split_documents(html_header_splits)\n",
    "splits"
   ]
  },
  {
   "cell_type": "code",
   "execution_count": 75,
   "id": "ee012f00",
   "metadata": {},
   "outputs": [
    {
     "name": "stdout",
     "output_type": "stream",
     "text": [
      "Split 1:\n",
      "\n",
      " Skip to main content  \n",
      "This is documentation for LangChain v0.1, which is no longer actively maintained. Check out the docs for the latest version here.  \n",
      "ComponentsIntegrationsGuidesAPI Reference  \n",
      "More  \n",
      "PeopleVersioningContributingTemplatesCookbooksTutorialsYouTube  \n",
      "💬  \n",
      "v0.1  \n",
      "Latestv0.2v0.1  \n",
      "🦜️🔗  \n",
      "LangSmithLangSmith DocsLangServe GitHubTemplates GitHubTemplates HubLangChain HubJS/TS Docs  \n",
      "Search  \n",
      "Security  \n",
      "Get started  \n",
      "IntroductionQuickstartInstallation  \n",
      "Use cases  \n",
      "Q&A with RAG\n",
      "\n",
      "==================================================\n",
      "\n",
      "Split 2:\n",
      "\n",
      " Use cases  \n",
      "Q&A with RAG  \n",
      "Extracting structured output  \n",
      "Chatbots  \n",
      "Tool use and agents  \n",
      "Query analysis  \n",
      "Q&A over SQL + CSV  \n",
      "More  \n",
      "Expression Language  \n",
      "Get startedRunnable interfaceAdvantages of LCELStreamingAdd message history (memory)  \n",
      "Primitives  \n",
      "More  \n",
      "Ecosystem  \n",
      "🦜🕸️ LangGraph🦜️🏓 LangServe  \n",
      "🦜🛠️ LangSmith  \n",
      "This is documentation for LangChain v0.1, which is no longer actively maintained.  \n",
      "For the current stable version, see this version (Latest).  \n",
      "Get started  \n",
      "On this page\n",
      "\n",
      "==================================================\n",
      "\n",
      "Split 3:\n",
      "\n",
      " Get started  \n",
      "On this page  \n",
      "IntroductionGet started​Use cases​Expression Language​Ecosystem​🦜🛠️ LangSmith​🦜🕸️ LangGraph​🦜🏓 LangServe​Security​Additional resources​Components​Integrations​Guides​API reference​Contributing​\n",
      "\n",
      "==================================================\n",
      "\n",
      "Split 4:\n",
      "Introduction\n",
      "Introduction LangChain is a framework for developing applications powered by large language models (LLMs).  \n",
      "LangChain simplifies every stage of the LLM application lifecycle:\n",
      "\n",
      "==================================================\n",
      "\n",
      "Split 5:\n",
      "Introduction\n",
      "Introduction Development: Build your applications using LangChain's open-source building blocks and components. Hit the ground running using third-party integrations and Templates.Productionization: Use LangSmith to inspect, monitor and evaluate your chains, so that you can continuously optimize and deploy with confidence.Deployment: Turn any chain into an API with LangServe.  \n",
      "Concretely, the framework consists of the following open-source libraries:\n",
      "\n",
      "==================================================\n",
      "\n",
      "Split 6:\n",
      "Introduction\n",
      "Introduction langchain-core: Base abstractions and LangChain Expression Language.langchain-community: Third party integrations.langchain: Chains, agents, and retrieval strategies that make up an application's cognitive architecture.langgraph: Build robust and stateful multi-actor applications with LLMs by modeling steps as edges and nodes in a graph.langserve: Deploy LangChain chains as REST APIs.\n",
      "\n",
      "==================================================\n",
      "\n",
      "Split 7:\n",
      "Introduction\n",
      "Introduction Partner packages (e.g. langchain-openai, langchain-anthropic, etc.): Some integrations have been further split into their own lightweight packages that only depend on langchain-core.  \n",
      "The broader ecosystem includes:  \n",
      "LangSmith: A developer platform that lets you debug, test, evaluate, and monitor LLM applications and seamlessly integrates with LangChain.\n",
      "\n",
      "==================================================\n",
      "\n",
      "Split 8:\n",
      "Introduction, Get started​\n",
      "Introduction, Get started​ We recommend following our Quickstart guide to familiarize yourself with the framework by building your first LangChain application.  \n",
      "See here for instructions on how to install LangChain, set up your environment, and start building.  \n",
      "note  \n",
      "These docs focus on the Python LangChain library. Head here for docs on the JavaScript LangChain library.\n",
      "\n",
      "==================================================\n",
      "\n",
      "Split 9:\n",
      "Introduction, Use cases​\n",
      "Introduction, Use cases​ If you're looking to build something specific or are more of a hands-on learner, check out our use-cases. They're walkthroughs and techniques for common end-to-end tasks, such as:  \n",
      "Question answering with RAGExtracting structured outputChatbotsand more!\n",
      "\n",
      "==================================================\n",
      "\n",
      "Split 10:\n",
      "Introduction, Expression Language​\n",
      "Introduction, Expression Language​ LangChain Expression Language (LCEL) is the foundation of many of LangChain's components, and is a declarative way to compose chains. LCEL was designed from day 1 to support putting prototypes in production, with no code changes, from the simplest “prompt + LLM” chain to the most complex chains.  \n",
      "Get started: LCEL and its benefitsRunnable interface: The standard interface for LCEL objectsPrimitives: More on the primitives LCEL includesand more!\n",
      "\n",
      "==================================================\n",
      "\n",
      "Split 11:\n",
      "Introduction, Ecosystem​, 🦜🛠️ LangSmith​\n",
      "Introduction, Ecosystem​, 🦜🛠️ LangSmith​ Trace and evaluate your language model applications and intelligent agents to help you move from prototype to production.\n",
      "\n",
      "==================================================\n",
      "\n",
      "Split 12:\n",
      "Introduction, Ecosystem​, 🦜🕸️ LangGraph​\n",
      "Introduction, Ecosystem​, 🦜🕸️ LangGraph​ Build stateful, multi-actor applications with LLMs, built on top of (and intended to be used with) LangChain primitives.\n",
      "\n",
      "==================================================\n",
      "\n",
      "Split 13:\n",
      "Introduction, Ecosystem​, 🦜🏓 LangServe​\n",
      "Introduction, Ecosystem​, 🦜🏓 LangServe​ Deploy LangChain runnables and chains as REST APIs.\n",
      "\n",
      "==================================================\n",
      "\n",
      "Split 14:\n",
      "Introduction, Security​\n",
      "Introduction, Security​ Read up on our Security best practices to make sure you're developing safely with LangChain.\n",
      "\n",
      "==================================================\n",
      "\n",
      "Split 15:\n",
      "Introduction, Additional resources​, Components​\n",
      "Introduction, Additional resources​, Components​ LangChain provides standard, extendable interfaces and integrations for many different components, including:\n",
      "\n",
      "==================================================\n",
      "\n",
      "Split 16:\n",
      "Introduction, Additional resources​, Integrations​\n",
      "Introduction, Additional resources​, Integrations​ LangChain is part of a rich ecosystem of tools that integrate with our framework and build on top of it. Check out our growing list of integrations.\n",
      "\n",
      "==================================================\n",
      "\n",
      "Split 17:\n",
      "Introduction, Additional resources​, Guides​\n",
      "Introduction, Additional resources​, Guides​ Best practices for developing with LangChain.\n",
      "\n",
      "==================================================\n",
      "\n",
      "Split 18:\n",
      "Introduction, Additional resources​, API reference​\n",
      "Introduction, Additional resources​, API reference​ Head to the reference section for full documentation of all classes and methods in the LangChain and LangChain Experimental Python packages.\n",
      "\n",
      "==================================================\n",
      "\n",
      "Split 19:\n",
      "Introduction, Additional resources​, Contributing​\n",
      "Introduction, Additional resources​, Contributing​ Check out the developer's guide for guidelines on contributing and help getting your dev environment set up.\n",
      "\n",
      "==================================================\n",
      "\n",
      "Split 20:\n",
      "\n",
      " Help us out by providing feedback on this documentation page:  \n",
      "Next  \n",
      "Introduction  \n",
      "Get startedUse casesExpression LanguageEcosystemSecurityAdditional resources  \n",
      "🦜🛠️ LangSmith🦜🕸️ LangGraph🦜🏓 LangServe  \n",
      "ComponentsIntegrationsGuidesAPI referenceContributing  \n",
      "Community  \n",
      "DiscordTwitter  \n",
      "GitHub  \n",
      "PythonJS/TS  \n",
      "More  \n",
      "HomepageBlogYouTube  \n",
      "Copyright © 2024 LangChain, Inc.\n",
      "\n",
      "==================================================\n",
      "\n"
     ]
    }
   ],
   "source": [
    "emb={}\n",
    "for i in range(len(splits)):\n",
    "    print(f\"Split {i+1}:\")\n",
    "    values = list(splits[i].metadata.values())\n",
    "    result_string = \", \".join(values)\n",
    "    print(result_string)\n",
    "    emb[i]=result_string+\" \"+splits[i].page_content\n",
    "    print(result_string+\" \"+splits[i].page_content)\n",
    "    print(\"\\n\" + \"=\"*50 + \"\\n\")"
   ]
  },
  {
   "cell_type": "code",
   "execution_count": 76,
   "id": "d90bedb1",
   "metadata": {},
   "outputs": [
    {
     "data": {
      "text/plain": [
       "{0: ' Skip to main content  \\nThis is documentation for LangChain v0.1, which is no longer actively maintained. Check out the docs for the latest version here.  \\nComponentsIntegrationsGuidesAPI Reference  \\nMore  \\nPeopleVersioningContributingTemplatesCookbooksTutorialsYouTube  \\n💬  \\nv0.1  \\nLatestv0.2v0.1  \\n🦜️🔗  \\nLangSmithLangSmith DocsLangServe GitHubTemplates GitHubTemplates HubLangChain HubJS/TS Docs  \\nSearch  \\nSecurity  \\nGet started  \\nIntroductionQuickstartInstallation  \\nUse cases  \\nQ&A with RAG',\n",
       " 1: ' Use cases  \\nQ&A with RAG  \\nExtracting structured output  \\nChatbots  \\nTool use and agents  \\nQuery analysis  \\nQ&A over SQL + CSV  \\nMore  \\nExpression Language  \\nGet startedRunnable interfaceAdvantages of LCELStreamingAdd message history (memory)  \\nPrimitives  \\nMore  \\nEcosystem  \\n🦜🕸️ LangGraph🦜️🏓 LangServe  \\n🦜🛠️ LangSmith  \\nThis is documentation for LangChain v0.1, which is no longer actively maintained.  \\nFor the current stable version, see this version (Latest).  \\nGet started  \\nOn this page',\n",
       " 2: ' Get started  \\nOn this page  \\nIntroductionGet started\\u200bUse cases\\u200bExpression Language\\u200bEcosystem\\u200b🦜🛠️ LangSmith\\u200b🦜🕸️ LangGraph\\u200b🦜🏓 LangServe\\u200bSecurity\\u200bAdditional resources\\u200bComponents\\u200bIntegrations\\u200bGuides\\u200bAPI reference\\u200bContributing\\u200b',\n",
       " 3: 'Introduction LangChain is a framework for developing applications powered by large language models (LLMs).  \\nLangChain simplifies every stage of the LLM application lifecycle:',\n",
       " 4: \"Introduction Development: Build your applications using LangChain's open-source building blocks and components. Hit the ground running using third-party integrations and Templates.Productionization: Use LangSmith to inspect, monitor and evaluate your chains, so that you can continuously optimize and deploy with confidence.Deployment: Turn any chain into an API with LangServe.  \\nConcretely, the framework consists of the following open-source libraries:\",\n",
       " 5: \"Introduction langchain-core: Base abstractions and LangChain Expression Language.langchain-community: Third party integrations.langchain: Chains, agents, and retrieval strategies that make up an application's cognitive architecture.langgraph: Build robust and stateful multi-actor applications with LLMs by modeling steps as edges and nodes in a graph.langserve: Deploy LangChain chains as REST APIs.\",\n",
       " 6: 'Introduction Partner packages (e.g. langchain-openai, langchain-anthropic, etc.): Some integrations have been further split into their own lightweight packages that only depend on langchain-core.  \\nThe broader ecosystem includes:  \\nLangSmith: A developer platform that lets you debug, test, evaluate, and monitor LLM applications and seamlessly integrates with LangChain.',\n",
       " 7: 'Introduction, Get started\\u200b We recommend following our Quickstart guide to familiarize yourself with the framework by building your first LangChain application.  \\nSee here for instructions on how to install LangChain, set up your environment, and start building.  \\nnote  \\nThese docs focus on the Python LangChain library. Head here for docs on the JavaScript LangChain library.',\n",
       " 8: \"Introduction, Use cases\\u200b If you're looking to build something specific or are more of a hands-on learner, check out our use-cases. They're walkthroughs and techniques for common end-to-end tasks, such as:  \\nQuestion answering with RAGExtracting structured outputChatbotsand more!\",\n",
       " 9: \"Introduction, Expression Language\\u200b LangChain Expression Language (LCEL) is the foundation of many of LangChain's components, and is a declarative way to compose chains. LCEL was designed from day 1 to support putting prototypes in production, with no code changes, from the simplest “prompt + LLM” chain to the most complex chains.  \\nGet started: LCEL and its benefitsRunnable interface: The standard interface for LCEL objectsPrimitives: More on the primitives LCEL includesand more!\",\n",
       " 10: 'Introduction, Ecosystem\\u200b, 🦜🛠️ LangSmith\\u200b Trace and evaluate your language model applications and intelligent agents to help you move from prototype to production.',\n",
       " 11: 'Introduction, Ecosystem\\u200b, 🦜🕸️ LangGraph\\u200b Build stateful, multi-actor applications with LLMs, built on top of (and intended to be used with) LangChain primitives.',\n",
       " 12: 'Introduction, Ecosystem\\u200b, 🦜🏓 LangServe\\u200b Deploy LangChain runnables and chains as REST APIs.',\n",
       " 13: \"Introduction, Security\\u200b Read up on our Security best practices to make sure you're developing safely with LangChain.\",\n",
       " 14: 'Introduction, Additional resources\\u200b, Components\\u200b LangChain provides standard, extendable interfaces and integrations for many different components, including:',\n",
       " 15: 'Introduction, Additional resources\\u200b, Integrations\\u200b LangChain is part of a rich ecosystem of tools that integrate with our framework and build on top of it. Check out our growing list of integrations.',\n",
       " 16: 'Introduction, Additional resources\\u200b, Guides\\u200b Best practices for developing with LangChain.',\n",
       " 17: 'Introduction, Additional resources\\u200b, API reference\\u200b Head to the reference section for full documentation of all classes and methods in the LangChain and LangChain Experimental Python packages.',\n",
       " 18: \"Introduction, Additional resources\\u200b, Contributing\\u200b Check out the developer's guide for guidelines on contributing and help getting your dev environment set up.\",\n",
       " 19: ' Help us out by providing feedback on this documentation page:  \\nNext  \\nIntroduction  \\nGet startedUse casesExpression LanguageEcosystemSecurityAdditional resources  \\n🦜🛠️ LangSmith🦜🕸️ LangGraph🦜🏓 LangServe  \\nComponentsIntegrationsGuidesAPI referenceContributing  \\nCommunity  \\nDiscordTwitter  \\nGitHub  \\nPythonJS/TS  \\nMore  \\nHomepageBlogYouTube  \\nCopyright © 2024 LangChain, Inc.'}"
      ]
     },
     "execution_count": 76,
     "metadata": {},
     "output_type": "execute_result"
    }
   ],
   "source": [
    "emb"
   ]
  },
  {
   "cell_type": "code",
   "execution_count": 77,
   "id": "4ef4d245",
   "metadata": {},
   "outputs": [],
   "source": [
    "strings = []\n",
    "for i in range(len(emb)):\n",
    "    string=Document(\n",
    "                page_content=emb[i],\n",
    "            )\n",
    "    strings.append(string)"
   ]
  },
  {
   "cell_type": "code",
   "execution_count": 78,
   "id": "9ced9004",
   "metadata": {},
   "outputs": [],
   "source": [
    "embeddings = OpenAIEmbeddings(check_embedding_ctx_length=False,  openai_api_key=\"sk-1234\", base_url=\"http://localhost:8080/v1\",model=\"text-embedding-nomic-embed-text-v1.5\")\n"
   ]
  },
  {
   "cell_type": "code",
   "execution_count": 79,
   "id": "35d0d27c",
   "metadata": {},
   "outputs": [],
   "source": [
    "vectorstore = Chroma.from_documents(documents=strings, \n",
    "                                    embedding=embeddings)"
   ]
  },
  {
   "cell_type": "code",
   "execution_count": 80,
   "id": "a162a43e",
   "metadata": {},
   "outputs": [],
   "source": [
    "retriever = vectorstore.as_retriever(search_kwargs={\"k\": 3})"
   ]
  },
  {
   "cell_type": "code",
   "execution_count": 81,
   "id": "105f5bf6",
   "metadata": {},
   "outputs": [],
   "source": [
    "docs = retriever.get_relevant_documents(\"What is the main idea of the text?\")"
   ]
  },
  {
   "cell_type": "code",
   "execution_count": 82,
   "id": "bf62253a",
   "metadata": {},
   "outputs": [
    {
     "data": {
      "text/plain": [
       "\"Introduction, Guides\\u200b, Conceptual guide\\u200b Introductions to all the key parts of LangChain you’ll need to know! Here you'll find high level explanations of all LangChain concepts.  \\nFor a deeper dive into LangGraph concepts, check out this page.\""
      ]
     },
     "execution_count": 82,
     "metadata": {},
     "output_type": "execute_result"
    }
   ],
   "source": [
    "docs[0].page_content"
   ]
  },
  {
   "cell_type": "code",
   "execution_count": 83,
   "id": "87041ada",
   "metadata": {},
   "outputs": [
    {
     "data": {
      "text/plain": [
       "ChatPromptTemplate(input_variables=['context', 'question'], input_types={}, partial_variables={}, messages=[HumanMessagePromptTemplate(prompt=PromptTemplate(input_variables=['context', 'question'], input_types={}, partial_variables={}, template='Answer the question based only on the following context:\\n{context}\\n\\nQuestion: {question}\\n'), additional_kwargs={})])"
      ]
     },
     "execution_count": 83,
     "metadata": {},
     "output_type": "execute_result"
    }
   ],
   "source": [
    "# Prompt\n",
    "template = \"\"\"Answer the question based only on the following context:\n",
    "{context}\n",
    "\n",
    "Question: {question}\n",
    "\"\"\"\n",
    "\n",
    "prompt = ChatPromptTemplate.from_template(template)\n",
    "prompt"
   ]
  },
  {
   "cell_type": "code",
   "execution_count": 84,
   "id": "7d7d9fea",
   "metadata": {},
   "outputs": [],
   "source": [
    "llm = ChatOpenAI(base_url=\"http://127.0.0.1:8080/v1\",model=\"llama-3.2-1b-instruct\", api_key=\"LM\")"
   ]
  },
  {
   "cell_type": "code",
   "execution_count": 85,
   "id": "299ba922",
   "metadata": {},
   "outputs": [],
   "source": [
    "rag_chain = (\n",
    "    {\"context\": retriever, \"question\": RunnablePassthrough()}\n",
    "    | prompt\n",
    "    | llm\n",
    "    | StrOutputParser()\n",
    ")"
   ]
  },
  {
   "cell_type": "code",
   "execution_count": 86,
   "id": "11ab7484",
   "metadata": {},
   "outputs": [
    {
     "data": {
      "text/plain": [
       "'Based on the provided context, the Expression Language (LCEL) is described as a declarative way to compose chains in LangChain. This means that LCEL allows users to define complex expressions using simple statements and predicates, which can be used to create more complex and dynamic logic flows.\\n\\nTo summarize:\\n\\n* LCEL is a foundation for many components of LangChain.\\n* It provides a declarative way to compose chains.\\n* LCEL was designed to support the simplest \"prompt + LLM\" chain to complex chains with no code changes.'"
      ]
     },
     "execution_count": 86,
     "metadata": {},
     "output_type": "execute_result"
    }
   ],
   "source": [
    "# Run\n",
    "rag_chain.invoke(\"Tell me about expression language\")"
   ]
  }
 ],
 "metadata": {
  "kernelspec": {
   "display_name": ".venv",
   "language": "python",
   "name": "python3"
  },
  "language_info": {
   "codemirror_mode": {
    "name": "ipython",
    "version": 3
   },
   "file_extension": ".py",
   "mimetype": "text/x-python",
   "name": "python",
   "nbconvert_exporter": "python",
   "pygments_lexer": "ipython3",
   "version": "3.10.6"
  }
 },
 "nbformat": 4,
 "nbformat_minor": 5
}

{
 "cells": [
  {
   "cell_type": "code",
   "execution_count": 2,
   "id": "f5482757",
   "metadata": {},
   "outputs": [],
   "source": [
    "from langchain_text_splitters import HTMLHeaderTextSplitter\n",
    "from langchain_openai import OpenAIEmbeddings\n",
    "from langchain_chroma import Chroma\n",
    "from langchain_core.documents import Document\n",
    "from langchain_text_splitters import RecursiveCharacterTextSplitter\n",
    "from langchain_openai import ChatOpenAI\n",
    "from langchain.prompts import ChatPromptTemplate\n",
    "from langchain_core.output_parsers import StrOutputParser\n",
    "from langchain_core.runnables import RunnablePassthrough\n"
   ]
  },
  {
   "cell_type": "code",
   "execution_count": 4,
   "id": "6b202a28",
   "metadata": {},
   "outputs": [
    {
     "name": "stdout",
     "output_type": "stream",
     "text": [
      "Found 90 URLs from the sitemap to start crawling.\n"
     ]
    }
   ],
   "source": [
    "import requests\n",
    "from bs4 import BeautifulSoup\n",
    "from urllib.parse import urljoin, urlparse\n",
    "website_url='https://docs.pydantic.dev'\n",
    "url = website_url+'/sitemap.xml'\n",
    "urlss=[]\n",
    "flag=1\n",
    "while(flag):\n",
    "    try:\n",
    "        reqs = requests.get(url)\n",
    "        soup = BeautifulSoup(reqs.text, 'xml')\n",
    "        urls = [url.text for url in soup.find_all('loc') if website_url in url.text]\n",
    "        urlss+=urls\n",
    "    except requests.exceptions.RequestException as e:\n",
    "        print(f\"Error fetching sitemap: {e}\")\n",
    "        exit()\n",
    "    except Exception as e:\n",
    "        print(f\"Error parsing sitemap: {e}\")\n",
    "        exit()\n",
    "    for urll in urlss:\n",
    "        if urll.endswith('xml'):\n",
    "            url=urll\n",
    "            urlss.pop(0) \n",
    "            break\n",
    "        else:\n",
    "            flag=0\n",
    "print(f\"Found {len(urlss)} URLs from the sitemap to start crawling.\")"
   ]
  },
  {
   "cell_type": "code",
   "execution_count": 5,
   "id": "48fa2075",
   "metadata": {},
   "outputs": [],
   "source": [
    "def get_html(url):\n",
    "\n",
    "    headers_to_split_on = [\n",
    "        (\"h1\", \"Header 1\"),\n",
    "        (\"h2\", \"Header 2\"),\n",
    "        (\"h3\", \"Header 3\"),\n",
    "        (\"h4\", \"Header 4\"),\n",
    "    ]\n",
    "\n",
    "    html_splitter = HTMLHeaderTextSplitter(headers_to_split_on=headers_to_split_on)\n",
    "\n",
    "    # for local file use html_splitter.split_text_from_file(<path_to_file>)\n",
    "    html_header_splits = html_splitter.split_text_from_url(url)\n",
    "\n",
    "    chunk_size = 500\n",
    "    chunk_overlap = 30\n",
    "    text_splitter = RecursiveCharacterTextSplitter(\n",
    "        chunk_size=chunk_size, chunk_overlap=chunk_overlap\n",
    "    )\n",
    "\n",
    "    # Split\n",
    "    splits = text_splitter.split_documents(html_header_splits)\n",
    "\n",
    "    return splits"
   ]
  },
  {
   "cell_type": "code",
   "execution_count": 6,
   "id": "40febcf8",
   "metadata": {},
   "outputs": [],
   "source": [
    "emb={}\n",
    "for url in urlss:\n",
    "    splits=get_html(url)\n",
    "    for i in range(len(splits)):\n",
    "        values = list(splits[i].metadata.values())\n",
    "        result_string = \", \".join(values)\n",
    "        emb[i]=result_string+\" \"+splits[i].page_content"
   ]
  },
  {
   "cell_type": "code",
   "execution_count": 14,
   "id": "931fb358",
   "metadata": {},
   "outputs": [],
   "source": [
    "strings = []\n",
    "for i in range(len(emb)):\n",
    "    string=Document(\n",
    "                page_content=emb[i],\n",
    "            )\n",
    "    strings.append(string)"
   ]
  },
  {
   "cell_type": "code",
   "execution_count": 15,
   "id": "96135d95",
   "metadata": {},
   "outputs": [
    {
     "data": {
      "text/plain": [
       "[Document(metadata={}, page_content=' Skip to content  \\nFastUI  \\nTypeScript Components  \\nInitializing search  \\npydantic/FastUI  \\nIntroduction Guide API Documentation  \\nFastUI  \\npydantic/FastUI  \\nIntroduction Guide API Documentation API Documentation  \\nPython Components TypeScript Components  \\nTypeScript Components¶'),\n",
       " Document(metadata={}, page_content='TypeScript Components¶ 🚧 Work in Progress  \\nThis page is a work in progress.'),\n",
       " Document(metadata={}, page_content=' Made with Material for MkDocs'),\n",
       " Document(metadata={}, page_content=' name title required error locked description display_mode class_name options multiple initial vanilla placeholder autocomplete type  \\nname title required error locked description display_mode class_name search_url multiple initial debounce placeholder type  \\nsubmit_url initial method display_mode submit_on_change submit_trigger loading footer class_name model type  \\npage page_size total page_query_param class_name type  \\ndata columns data_model no_data_message class_name type  \\ntext type'),\n",
       " Document(metadata={}, page_content=' text type  \\ntext class_name type  \\ntext type  \\ncomponents class_name type  \\ncomponents class_name type  \\ntext level html_id class_name type  \\ntext code_style class_name type  \\ntext language code_style class_name type  \\nvalue class_name type  \\ntext on_click html_type named_style class_name type  \\ncomponents on_click mode active locked class_name type  \\nlinks mode class_name type  \\ntitle title_event start_links end_links class_name type  \\nlinks extra_text class_name type')]"
      ]
     },
     "execution_count": 15,
     "metadata": {},
     "output_type": "execute_result"
    }
   ],
   "source": [
    "strings[0:5]"
   ]
  },
  {
   "cell_type": "code",
   "execution_count": 16,
   "id": "405026d0",
   "metadata": {},
   "outputs": [],
   "source": [
    "embeddings = OpenAIEmbeddings(check_embedding_ctx_length=False,  openai_api_key=\"lm-studio\", base_url=\"http://localhost:8080/v1\",model=\"text-embedding-nomic-embed-text-v1.5\")\n"
   ]
  },
  {
   "cell_type": "code",
   "execution_count": 11,
   "id": "d370483f",
   "metadata": {},
   "outputs": [],
   "source": [
    "vectorstore = Chroma.from_documents(documents=strings, \n",
    "                                    embedding=embeddings)"
   ]
  },
  {
   "cell_type": "code",
   "execution_count": 12,
   "id": "8b28d375",
   "metadata": {},
   "outputs": [],
   "source": [
    "retriever = vectorstore.as_retriever(search_kwargs={\"k\": 3})"
   ]
  },
  {
   "cell_type": "code",
   "execution_count": null,
   "id": "10e55987",
   "metadata": {},
   "outputs": [],
   "source": [
    "docs = retriever.get_relevant_documents(\"What is the main idea of the text?\")"
   ]
  },
  {
   "cell_type": "code",
   "execution_count": 14,
   "id": "644d35fa",
   "metadata": {},
   "outputs": [
    {
     "data": {
      "text/plain": [
       "\"Pydantic Types, pydantic.types ¶, constr ¶ A wrapper around str that allows for additional constraints.  \\nfrom pydantic import BaseModel, constr class Foo(BaseModel): bar: constr(strip_whitespace=True, to_upper=True) foo = Foo(bar=' hello ') print(foo) #> bar='HELLO'  \\nParameters:  \\nWhether to remove leading and trailing whitespace.  \\nWhether to turn all characters to uppercase.  \\nWhether to turn all characters to lowercase.  \\nWhether to validate the string in strict mode.  \\nThe minimum length of the string.\""
      ]
     },
     "execution_count": 14,
     "metadata": {},
     "output_type": "execute_result"
    }
   ],
   "source": [
    "docs[0].page_content"
   ]
  },
  {
   "cell_type": "code",
   "execution_count": 15,
   "id": "49c9b025",
   "metadata": {},
   "outputs": [
    {
     "data": {
      "text/plain": [
       "ChatPromptTemplate(input_variables=['context', 'question'], input_types={}, partial_variables={}, messages=[HumanMessagePromptTemplate(prompt=PromptTemplate(input_variables=['context', 'question'], input_types={}, partial_variables={}, template='Answer the question based only on the following context:\\n{context}\\n\\nQuestion: {question}\\n'), additional_kwargs={})])"
      ]
     },
     "execution_count": 15,
     "metadata": {},
     "output_type": "execute_result"
    }
   ],
   "source": [
    "# Prompt\n",
    "template = \"\"\"Answer the question based only on the following context:\n",
    "{context}\n",
    "\n",
    "Question: {question}\n",
    "\"\"\"\n",
    "\n",
    "prompt = ChatPromptTemplate.from_template(template)\n",
    "prompt"
   ]
  },
  {
   "cell_type": "code",
   "execution_count": 16,
   "id": "9eaa3b06",
   "metadata": {},
   "outputs": [],
   "source": [
    "llm = ChatOpenAI(base_url=\"http://127.0.0.1:8080/v1\",model=\"llama-3.2-1b-instruct\", api_key=\"LM\")"
   ]
  },
  {
   "cell_type": "code",
   "execution_count": 17,
   "id": "37560a4e",
   "metadata": {},
   "outputs": [],
   "source": [
    "rag_chain = (\n",
    "    {\"context\": retriever, \"question\": RunnablePassthrough()}\n",
    "    | prompt\n",
    "    | llm\n",
    "    | StrOutputParser()\n",
    ")"
   ]
  },
  {
   "cell_type": "code",
   "execution_count": 18,
   "id": "eca0b117",
   "metadata": {},
   "outputs": [
    {
     "data": {
      "text/plain": [
       "\"To use Pydantic, you can follow these general steps:\\n\\n1. Import the necessary modules:\\n   ```python\\nfrom pydantic import BaseModel, EmailStr, NonNegativeInt, Optional, validator\\n```\\n2. Define your models using classes that inherit from `BaseModel` (or `BaseDataclass` in some cases).\\n3. Use validation decorators and methods to specify how to validate data.\\n4. Create instances of these models with the required attributes.\\n5. You can also use other Pydantic features like JSON schema, data types, and more.\\n\\nHere is a simple example:\\n\\n```python\\nfrom pydantic import BaseModel\\n\\nclass User(BaseModel):\\n    id: int = NonNegativeInt()\\n    name: str\\n    age: Optional[int]\\n    email: EmailStr\\n```\\n\\nIn this example:\\n- `id` is a non-negative integer with optional validation.\\n- `name` and `email` are strings with validation using `EmailStr`.\\n- `age` can be either an integer or None.\\n\\nYou can create instances of the model like this:\\n\\n```python\\nuser = User(id=1, name='John Doe', age=30)\\nprint(user.id)  # prints: 1\\nprint(user.name)  # prints: John Doe\\nprint(user.age)   # prints: 30\\n```\\n\\nPydantic supports more complex data types and validation rules. For example:\\n\\n```python\\nfrom pydantic import BaseModel, EmailStr, NonNegativeInt, PositiveInt\\n\\nclass Order(BaseModel):\\n    id: int = NonNegativeInt()\\n    name: str\\n    email: EmailStr\\n    total: float = PositiveInt()\\n\\norder = Order(id=1, name='Test', email='test@example.com', total=100.00)\\nprint(order.id)  # prints: 1\\nprint(order.name)  # prints: Test\\nprint(order.email)  # prints: test@example.com\\n```\\n\\nThis example demonstrates how you can use Pydantic for validation and data types, including integers and floats with optional constraints.\""
      ]
     },
     "execution_count": 18,
     "metadata": {},
     "output_type": "execute_result"
    }
   ],
   "source": [
    "# Run\n",
    "rag_chain.invoke(\"How to use pydantic?\")"
   ]
  }
 ],
 "metadata": {
  "kernelspec": {
   "display_name": ".venv",
   "language": "python",
   "name": "python3"
  },
  "language_info": {
   "codemirror_mode": {
    "name": "ipython",
    "version": 3
   },
   "file_extension": ".py",
   "mimetype": "text/x-python",
   "name": "python",
   "nbconvert_exporter": "python",
   "pygments_lexer": "ipython3",
   "version": "3.10.6"
  }
 },
 "nbformat": 4,
 "nbformat_minor": 5
}
